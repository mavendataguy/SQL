{
 "cells": [
  {
   "cell_type": "markdown",
   "source": [
    "# Marketing Growth Analysis - Mini Conversion Funnel \r\n",
    "\r\n",
    "### We want to build a mini conversion funnel from a Landing Page ('lander-1') to Shopping Cart ('/cart')\r\n",
    "### We want to know how many people reach each step in their Customer Journey, and drop off  rates\r\n",
    "### We are focussing at customer who are looking at product \"Mr Fuzzy only\" (i.e \"/the-original-mr-fuzzy\")\r\n"
   ],
   "metadata": {}
  },
  {
   "cell_type": "code",
   "execution_count": 2,
   "source": [
    "# importing Libraries\r\n",
    "import os\r\n",
    "import numpy as np\r\n",
    "import pandas as pd\r\n",
    "import sqlite3\r\n",
    "from sqlite3 import Error\r\n",
    "#import psycopg2\r\n",
    "#!pip install pyodbc"
   ],
   "outputs": [],
   "metadata": {
    "collapsed": true
   }
  },
  {
   "cell_type": "markdown",
   "source": [
    "## CSV\n",
    "\n",
    "### CSV Input"
   ],
   "metadata": {}
  },
  {
   "cell_type": "code",
   "execution_count": 3,
   "source": [
    "df = pd.read_csv('website_pageviews.csv',header=0)\r\n",
    "df.head()"
   ],
   "outputs": [
    {
     "output_type": "execute_result",
     "data": {
      "text/plain": [
       "   website_pageview_id           created_at  website_session_id pageview_url\n",
       "0                    1  2012-03-19 08:04:16                   1        /home\n",
       "1                    2  2012-03-19 08:16:49                   2        /home\n",
       "2                    3  2012-03-19 08:26:55                   3        /home\n",
       "3                    4  2012-03-19 08:37:33                   4        /home\n",
       "4                    5  2012-03-19 09:00:55                   5        /home"
      ],
      "text/html": [
       "<div>\n",
       "<style scoped>\n",
       "    .dataframe tbody tr th:only-of-type {\n",
       "        vertical-align: middle;\n",
       "    }\n",
       "\n",
       "    .dataframe tbody tr th {\n",
       "        vertical-align: top;\n",
       "    }\n",
       "\n",
       "    .dataframe thead th {\n",
       "        text-align: right;\n",
       "    }\n",
       "</style>\n",
       "<table border=\"1\" class=\"dataframe\">\n",
       "  <thead>\n",
       "    <tr style=\"text-align: right;\">\n",
       "      <th></th>\n",
       "      <th>website_pageview_id</th>\n",
       "      <th>created_at</th>\n",
       "      <th>website_session_id</th>\n",
       "      <th>pageview_url</th>\n",
       "    </tr>\n",
       "  </thead>\n",
       "  <tbody>\n",
       "    <tr>\n",
       "      <th>0</th>\n",
       "      <td>1</td>\n",
       "      <td>2012-03-19 08:04:16</td>\n",
       "      <td>1</td>\n",
       "      <td>/home</td>\n",
       "    </tr>\n",
       "    <tr>\n",
       "      <th>1</th>\n",
       "      <td>2</td>\n",
       "      <td>2012-03-19 08:16:49</td>\n",
       "      <td>2</td>\n",
       "      <td>/home</td>\n",
       "    </tr>\n",
       "    <tr>\n",
       "      <th>2</th>\n",
       "      <td>3</td>\n",
       "      <td>2012-03-19 08:26:55</td>\n",
       "      <td>3</td>\n",
       "      <td>/home</td>\n",
       "    </tr>\n",
       "    <tr>\n",
       "      <th>3</th>\n",
       "      <td>4</td>\n",
       "      <td>2012-03-19 08:37:33</td>\n",
       "      <td>4</td>\n",
       "      <td>/home</td>\n",
       "    </tr>\n",
       "    <tr>\n",
       "      <th>4</th>\n",
       "      <td>5</td>\n",
       "      <td>2012-03-19 09:00:55</td>\n",
       "      <td>5</td>\n",
       "      <td>/home</td>\n",
       "    </tr>\n",
       "  </tbody>\n",
       "</table>\n",
       "</div>"
      ]
     },
     "metadata": {},
     "execution_count": 3
    }
   ],
   "metadata": {}
  },
  {
   "cell_type": "markdown",
   "source": [
    "### CSV Output"
   ],
   "metadata": {}
  },
  {
   "cell_type": "markdown",
   "source": [
    "## Create a SQL Lite In Memory DB Connection"
   ],
   "metadata": {}
  },
  {
   "cell_type": "code",
   "execution_count": 5,
   "source": [
    "\r\n",
    "import sqlite3\r\n",
    "from sqlite3 import Error\r\n",
    "def create_connection(db_file):\r\n",
    "    \"\"\" create a database connection to the SQLite database\r\n",
    "        specified by db_file\r\n",
    "    :param db_file: database file\r\n",
    "    :return: Connection object or None\r\n",
    "    \"\"\"\r\n",
    "    conn = None\r\n",
    "    try:\r\n",
    "        conn = sqlite3.connect(db_file)\r\n",
    "    except Error as e:\r\n",
    "        print(e)\r\n",
    "\r\n",
    "    return conn"
   ],
   "outputs": [],
   "metadata": {
    "collapsed": true
   }
  },
  {
   "cell_type": "code",
   "execution_count": 13,
   "source": [
    "conn=create_connection(':memory:')\r\n",
    "#website_sessions_df = spark.read.format(\"csv\").option(\"header\",\"true\").option(\"inferSchema\",\"true\").load(\"website_sessions.csv\")\r\n",
    "website_pageviews_df = pd.read_csv('website_pageviews.csv',header=0)\r\n",
    "website_pageviews_df.head()\r\n",
    "website_sessions_df = pd.read_csv('website_sessions.csv',header=0)\r\n",
    "website_sessions_df.head()\r\n",
    "#website_sessions_df = pd.read_csv('website_pageviews.csv')\r\n",
    "cursor = conn.cursor()\r\n",
    "tbl_name1= \"website_pageviews\"\r\n",
    "cursor.execute(\"drop table if exists %s;\"%(tbl_name1))\r\n",
    "#print('Table {0} was created successfully'.format(tbl_name1))\r\n",
    "website_pageviews_df.to_sql(tbl_name1,conn,if_exists='replace', index=False)\r\n",
    "print('File %s copied to db'%(tbl_name1))\r\n",
    "tbl_name2= \"website_sessions\"\r\n",
    "cursor.execute(\"drop table if exists %s;\"%(tbl_name2))\r\n",
    "#print('Table {0} was created successfully'.format(tbl_name2))\r\n",
    "website_sessions_df.to_sql(tbl_name2,conn,if_exists='replace', index=False)\r\n",
    "print('File %s copied to db'%(tbl_name2))\r\n",
    "conn.commit()\r\n",
    "#cursor=conn.cursor()\r\n",
    "sql=\"select * from %s limit 10\"%tbl_name1\r\n",
    "sql_df1 = pd.read_sql('select * from website_sessions limit 3',con=conn)\r\n",
    "sql_df2 = pd.read_sql('select * from website_pageviews limit 3',con=conn)\r\n",
    "sql_df1.head(3)\r\n",
    "#sql_df2.head(3)\r\n"
   ],
   "outputs": [
    {
     "output_type": "stream",
     "name": "stdout",
     "text": [
      "File website_pageviews copied to db\n",
      "File website_sessions copied to db\n"
     ]
    },
    {
     "output_type": "execute_result",
     "data": {
      "text/plain": [
       "   website_session_id           created_at  user_id  is_repeat_session  \\\n",
       "0                   1  2012-03-19 08:04:16        1                  0   \n",
       "1                   2  2012-03-19 08:16:49        2                  0   \n",
       "2                   3  2012-03-19 08:26:55        3                  0   \n",
       "\n",
       "  utm_source utm_campaign utm_content device_type             http_referer  \n",
       "0    gsearch     nonbrand      g_ad_1      mobile  https://www.gsearch.com  \n",
       "1    gsearch     nonbrand      g_ad_1     desktop  https://www.gsearch.com  \n",
       "2    gsearch     nonbrand      g_ad_1     desktop  https://www.gsearch.com  "
      ],
      "text/html": [
       "<div>\n",
       "<style scoped>\n",
       "    .dataframe tbody tr th:only-of-type {\n",
       "        vertical-align: middle;\n",
       "    }\n",
       "\n",
       "    .dataframe tbody tr th {\n",
       "        vertical-align: top;\n",
       "    }\n",
       "\n",
       "    .dataframe thead th {\n",
       "        text-align: right;\n",
       "    }\n",
       "</style>\n",
       "<table border=\"1\" class=\"dataframe\">\n",
       "  <thead>\n",
       "    <tr style=\"text-align: right;\">\n",
       "      <th></th>\n",
       "      <th>website_session_id</th>\n",
       "      <th>created_at</th>\n",
       "      <th>user_id</th>\n",
       "      <th>is_repeat_session</th>\n",
       "      <th>utm_source</th>\n",
       "      <th>utm_campaign</th>\n",
       "      <th>utm_content</th>\n",
       "      <th>device_type</th>\n",
       "      <th>http_referer</th>\n",
       "    </tr>\n",
       "  </thead>\n",
       "  <tbody>\n",
       "    <tr>\n",
       "      <th>0</th>\n",
       "      <td>1</td>\n",
       "      <td>2012-03-19 08:04:16</td>\n",
       "      <td>1</td>\n",
       "      <td>0</td>\n",
       "      <td>gsearch</td>\n",
       "      <td>nonbrand</td>\n",
       "      <td>g_ad_1</td>\n",
       "      <td>mobile</td>\n",
       "      <td>https://www.gsearch.com</td>\n",
       "    </tr>\n",
       "    <tr>\n",
       "      <th>1</th>\n",
       "      <td>2</td>\n",
       "      <td>2012-03-19 08:16:49</td>\n",
       "      <td>2</td>\n",
       "      <td>0</td>\n",
       "      <td>gsearch</td>\n",
       "      <td>nonbrand</td>\n",
       "      <td>g_ad_1</td>\n",
       "      <td>desktop</td>\n",
       "      <td>https://www.gsearch.com</td>\n",
       "    </tr>\n",
       "    <tr>\n",
       "      <th>2</th>\n",
       "      <td>3</td>\n",
       "      <td>2012-03-19 08:26:55</td>\n",
       "      <td>3</td>\n",
       "      <td>0</td>\n",
       "      <td>gsearch</td>\n",
       "      <td>nonbrand</td>\n",
       "      <td>g_ad_1</td>\n",
       "      <td>desktop</td>\n",
       "      <td>https://www.gsearch.com</td>\n",
       "    </tr>\n",
       "  </tbody>\n",
       "</table>\n",
       "</div>"
      ]
     },
     "metadata": {},
     "execution_count": 13
    }
   ],
   "metadata": {}
  },
  {
   "cell_type": "markdown",
   "source": [
    "                                            ##CONVERSION FUNNEL ANALYSIS\r\n",
    "* Its about understanding and Optimizing each step of the User Experience on their Journbey towards purchase of our product \r\n",
    "* Use Case 1- Identifying the most common Paths customers take before purchasing our product \r\n",
    "* Use Case 2- Identifying how many of our users continue on to each next step in conversion flow & how mnay abandon at each step\r\n",
    "* Use Case 3-  Optimizing critical pain points where users are abandoning so that you can convert more users & sell more products \r\n",
    "    * Example 95 users  visisted home page, 65 of them went to products page, 45 of the users went to add to cart page for final purchase"
   ],
   "metadata": {}
  },
  {
   "cell_type": "code",
   "execution_count": 25,
   "source": [
    "\r\n",
    "session_level_made_it_flag_demo = pd.read_sql(\"\"\"\r\n",
    "select website_session_id, \r\n",
    "max(products_page) products_made_it,\r\n",
    "max(mrfuzzy_page) mrfuzzy_made_it,\r\n",
    "max(cart_page) cart_page_made_it\r\n",
    "from \r\n",
    "(\r\n",
    "select website_sessions.website_session_id, \r\n",
    "website_pageviews.pageview_url, \r\n",
    "website_pageviews.created_at pageview_created_at,\r\n",
    "case when website_pageviews.pageview_url= '/products' then 1 else 0 end as products_page,\r\n",
    "case when website_pageviews.pageview_url= '/the-original-mr-fuzzy' then 1 else 0 end as mrfuzzy_page,\r\n",
    "case when website_pageviews.pageview_url= '/cart' then 1 else 0 end as cart_page\r\n",
    "from website_sessions left join website_pageviews\r\n",
    "on website_sessions.website_session_id = website_pageviews.website_session_id\r\n",
    "where \r\n",
    "\t --website_pageviews.pageview_url = (select min(pageview_url) from website_pageviews group by website_session_id)\r\n",
    "\t--website_sessions.created_at>='2012-03-19 08:26:55' and \r\n",
    "website_pageviews.pageview_url in ('/the-original-mr-fuzzy','/lander-2','/products','/cart') \r\n",
    "order by website_sessions.website_session_id\r\n",
    ")x\t\r\n",
    "group by website_session_id\r\n",
    "order by website_session_id\r\n",
    "\"\"\"\r\n",
    ",con=conn)\r\n",
    "tbl_name3= \"session_level_made_it_flag_demo\"\r\n",
    "session_level_made_it_flag_demo.to_sql(tbl_name3,conn,if_exists='replace', index=False)"
   ],
   "outputs": [],
   "metadata": {}
  },
  {
   "cell_type": "code",
   "execution_count": 28,
   "source": [
    "pd.read_sql(\"\"\"\r\n",
    "select count(distinct website_session_id) as sessions,\r\n",
    "count(distinct case when products_made_it=1 then website_session_id else null end )*1.0/\r\n",
    "count(distinct website_session_id) as lander_click_through_rate , \r\n",
    "count(distinct case when mrfuzzy_made_it =1 then website_session_id else null end )*1.0/\r\n",
    "count(distinct website_session_id) as products_through_rate,\r\n",
    "ROUND(count(distinct case when cart_page_made_it =1 then website_session_id else null end )*1.0/\r\n",
    "count(distinct website_session_id),2) as mrfuzzy_click_through_rate\r\n",
    "from session_level_made_it_flag_demo\r\n",
    "\"\"\"\r\n",
    ",con=conn).head()"
   ],
   "outputs": [
    {
     "output_type": "execute_result",
     "data": {
      "text/plain": [
       "   sessions  lander_click_through_rate  products_through_rate  \\\n",
       "0    320480                   0.815124                0.50713   \n",
       "\n",
       "   mrfuzzy_click_through_rate  \n",
       "0                         0.3  "
      ],
      "text/html": [
       "<div>\n",
       "<style scoped>\n",
       "    .dataframe tbody tr th:only-of-type {\n",
       "        vertical-align: middle;\n",
       "    }\n",
       "\n",
       "    .dataframe tbody tr th {\n",
       "        vertical-align: top;\n",
       "    }\n",
       "\n",
       "    .dataframe thead th {\n",
       "        text-align: right;\n",
       "    }\n",
       "</style>\n",
       "<table border=\"1\" class=\"dataframe\">\n",
       "  <thead>\n",
       "    <tr style=\"text-align: right;\">\n",
       "      <th></th>\n",
       "      <th>sessions</th>\n",
       "      <th>lander_click_through_rate</th>\n",
       "      <th>products_through_rate</th>\n",
       "      <th>mrfuzzy_click_through_rate</th>\n",
       "    </tr>\n",
       "  </thead>\n",
       "  <tbody>\n",
       "    <tr>\n",
       "      <th>0</th>\n",
       "      <td>320480</td>\n",
       "      <td>0.815124</td>\n",
       "      <td>0.50713</td>\n",
       "      <td>0.3</td>\n",
       "    </tr>\n",
       "  </tbody>\n",
       "</table>\n",
       "</div>"
      ]
     },
     "metadata": {},
     "execution_count": 28
    }
   ],
   "metadata": {}
  },
  {
   "cell_type": "markdown",
   "source": [
    "# Great Job!"
   ],
   "metadata": {}
  }
 ],
 "metadata": {
  "kernelspec": {
   "name": "python3",
   "display_name": "Python 3.9.6 64-bit (windows store)"
  },
  "language_info": {
   "codemirror_mode": {
    "name": "ipython",
    "version": 3
   },
   "file_extension": ".py",
   "mimetype": "text/x-python",
   "name": "python",
   "nbconvert_exporter": "python",
   "pygments_lexer": "ipython3",
   "version": "3.9.6"
  },
  "interpreter": {
   "hash": "5d1643168ee066b536849e1ec81ae3d6f413f64022c1e76341d036eedb4beb47"
  }
 },
 "nbformat": 4,
 "nbformat_minor": 1
}